{
 "cells": [
  {
   "cell_type": "code",
   "execution_count": 4,
   "metadata": {
    "collapsed": false
   },
   "outputs": [],
   "source": [
    "from IPython.display import Image, display\n",
    "from IPython.core.display import HTML \n",
    "from lxml import html\n",
    "import tensorflow as tf, sys\n",
    "import shutil\n",
    "import requests\n",
    "import subprocess\n",
    "import random\n",
    "import os\n",
    "\n",
    "from image_labeler import ImageLabeler\n",
    "\n",
    "labeler = ImageLabeler()"
   ]
  },
  {
   "cell_type": "code",
   "execution_count": 5,
   "metadata": {
    "collapsed": false
   },
   "outputs": [],
   "source": [
    "# Classify a single image given the URL.\n",
    "def classify_image(image_url):\n",
    "    # Show inline image\n",
    "    # display(Image(url=image_url), width=50, height=50)\n",
    "    \n",
    "    # Downloads image locally\n",
    "    # Runs through the pre-trained classifier. See image_labeler.py for more info.\n",
    "    return labeler.get_tags(image_url)\n",
    "\n",
    "# If you want to get all the classification results for a listing's image.\n",
    "def classify_listing_images(listing_id):\n",
    "    # Get the details URL for a given listing.\n",
    "    detail_url = 'https://www.tripping.com/details/test/1/1/{}'.format(listing_id)\n",
    "    # Parse the html tree and grab all the image links\n",
    "    html_tree = html.fromstring(requests.get(detail_url).content)\n",
    "    link_results = html_tree.xpath('.//img/@src')\n",
    "    links = [link_result for link_result in link_results if 'trippng' in link_result]\n",
    "    \n",
    "    scores = []\n",
    "\n",
    "    for link in links:\n",
    "        image_url = \"https:{}\".format(link)\n",
    "        image_stats = classify_image(image_url)\n",
    "        image_stats[\"image_url\"] = image_url\n",
    "        scores.append(image_stats)\n",
    "        \n",
    "    default_image = scores[0]\n",
    "    \n",
    "    highest_quality = max(scores, key=lambda score:score['high_quality'])\n",
    "    lowest_quality = max(scores, key=lambda score:score['low_quality'])\n",
    "    \n",
    "    print(\"Current Image\")\n",
    "    display(Image(url=default_image['image_url']), width=50, height=50)\n",
    "    \n",
    "    print(\"'Best' Image by Score\")\n",
    "    display(Image(url=highest_quality['image_url']), width=50, height=50)\n",
    "\n",
    "    print(\"'Worst' Image by Score\")\n",
    "    display(Image(url=lowest_quality['image_url']), width=50, height=50)"
   ]
  },
  {
   "cell_type": "code",
   "execution_count": 6,
   "metadata": {
    "collapsed": false,
    "scrolled": false
   },
   "outputs": [
    {
     "name": "stdout",
     "output_type": "stream",
     "text": [
      "Current Image\n"
     ]
    },
    {
     "data": {
      "text/html": [
       "<img src=\"https://s0.trippng.com/attachments/3c82268d28404b06d0e1e1988224f63edcb43ab4/store/114dfbaae9cedcd32fc97bd2b1c5ce7735294e89fba01f86c5dd73489092/media.jpeg\"/>"
      ],
      "text/plain": [
       "<IPython.core.display.Image object>"
      ]
     },
     "metadata": {},
     "output_type": "display_data"
    },
    {
     "name": "stdout",
     "output_type": "stream",
     "text": [
      "'Best' Image by Score\n"
     ]
    },
    {
     "data": {
      "text/html": [
       "<img src=\"https://s0.trippng.com/attachments/3c119331a7b230903a5897f553fc3f84189493db/store/5a2455150687b1d96d660bc5f0a9ca7f5986887bc12e03f275170484022e/media.jpeg\"/>"
      ],
      "text/plain": [
       "<IPython.core.display.Image object>"
      ]
     },
     "metadata": {},
     "output_type": "display_data"
    },
    {
     "name": "stdout",
     "output_type": "stream",
     "text": [
      "'Worst' Image by Score\n"
     ]
    },
    {
     "data": {
      "text/html": [
       "<img src=\"https://s0.trippng.com/attachments/95e98b96b58085a7ac6194e83673ecf97585ff51/store/f95fd11706c794b94951b5959fe8df951fb7351e90c512ad682e886d438f/media.jpeg\"/>"
      ],
      "text/plain": [
       "<IPython.core.display.Image object>"
      ]
     },
     "metadata": {},
     "output_type": "display_data"
    }
   ],
   "source": [
    "classify_listing_images(18272610)"
   ]
  },
  {
   "cell_type": "code",
   "execution_count": null,
   "metadata": {
    "collapsed": true
   },
   "outputs": [],
   "source": []
  }
 ],
 "metadata": {
  "anaconda-cloud": {},
  "kernelspec": {
   "display_name": "Python [default]",
   "language": "python",
   "name": "python3"
  },
  "language_info": {
   "codemirror_mode": {
    "name": "ipython",
    "version": 3
   },
   "file_extension": ".py",
   "mimetype": "text/x-python",
   "name": "python",
   "nbconvert_exporter": "python",
   "pygments_lexer": "ipython3",
   "version": "3.5.2"
  }
 },
 "nbformat": 4,
 "nbformat_minor": 1
}
