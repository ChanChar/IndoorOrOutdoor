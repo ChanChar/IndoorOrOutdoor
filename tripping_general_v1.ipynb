{
 "cells": [
  {
   "cell_type": "code",
   "execution_count": 1,
   "metadata": {
    "collapsed": false
   },
   "outputs": [],
   "source": [
    "from IPython.display import Image, display\n",
    "from IPython.core.display import HTML \n",
    "from lxml import html\n",
    "import tensorflow as tf, sys\n",
    "import shutil\n",
    "import requests\n",
    "import subprocess\n",
    "import random\n",
    "import os\n",
    "\n",
    "from image_labeler import ImageLabeler\n",
    "\n",
    "labeler = ImageLabeler()"
   ]
  },
  {
   "cell_type": "code",
   "execution_count": 2,
   "metadata": {
    "collapsed": false
   },
   "outputs": [],
   "source": [
    "# Classify a single image given the URL.\n",
    "def classify_image(image_url):\n",
    "    # Show inline image\n",
    "    display(Image(url=image_url), width=50, height=50)\n",
    "    \n",
    "    # Downloads image locally\n",
    "    # Runs through the pre-trained classifier. See image_labeler.py for more info.\n",
    "    labeler.get_tags(image_url)\n",
    "\n",
    "# If you want to get all the classification results for a listing's image.\n",
    "def classify_listing_images(listing_id):\n",
    "    # Get the details URL for a given listing.\n",
    "    detail_url = 'https://www.tripping.com/details/test/1/1/{}'.format(listing_id)\n",
    "    # Parse the html tree and grab all the image links\n",
    "    html_tree = html.fromstring(requests.get(detail_url).content)\n",
    "    link_results = html_tree.xpath('.//img/@src')\n",
    "    links = [link_result for link_result in link_results if 'trippng' in link_result]\n",
    "                    \n",
    "    for link in links:\n",
    "        image_url = \"https:{}\".format(link)\n",
    "        print(image_url)\n",
    "        classify_image(image_url)"
   ]
  },
  {
   "cell_type": "code",
   "execution_count": 4,
   "metadata": {
    "collapsed": false,
    "scrolled": true
   },
   "outputs": [
    {
     "name": "stdout",
     "output_type": "stream",
     "text": [
      "https://s0.trippng.com/attachments/554edce03bb3dcb796f1fe60aae7c496fcfcdb43/store/0ac84751887a26d7b0d5f85bd613d1bc191dd3653eaf13371e6127050625/media.jpeg\n"
     ]
    },
    {
     "data": {
      "text/html": [
       "<img src=\"https://s0.trippng.com/attachments/554edce03bb3dcb796f1fe60aae7c496fcfcdb43/store/0ac84751887a26d7b0d5f85bd613d1bc191dd3653eaf13371e6127050625/media.jpeg\"/>"
      ],
      "text/plain": [
       "<IPython.core.display.Image object>"
      ]
     },
     "metadata": {},
     "output_type": "display_data"
    },
    {
     "name": "stdout",
     "output_type": "stream",
     "text": [
      "hotel (score = 0.63644)\n",
      "bedroom (score = 0.30999)\n",
      "living (score = 0.04575)\n",
      "bathroom (score = 0.00710)\n",
      "kitchen (score = 0.00044)\n",
      "person (score = 0.00028)\n",
      "https://s0.trippng.com/attachments/2611a6049280ec8d12291813068c1b7365707189/store/fd17d8ad55dffb9ba70eb97aeed493dc2d2470fa45c617c1fcdce29bd89e/media.jpeg\n"
     ]
    },
    {
     "data": {
      "text/html": [
       "<img src=\"https://s0.trippng.com/attachments/2611a6049280ec8d12291813068c1b7365707189/store/fd17d8ad55dffb9ba70eb97aeed493dc2d2470fa45c617c1fcdce29bd89e/media.jpeg\"/>"
      ],
      "text/plain": [
       "<IPython.core.display.Image object>"
      ]
     },
     "metadata": {},
     "output_type": "display_data"
    },
    {
     "name": "stdout",
     "output_type": "stream",
     "text": [
      "bathroom (score = 0.75506)\n",
      "hotel (score = 0.24491)\n",
      "person (score = 0.00001)\n",
      "bedroom (score = 0.00001)\n",
      "kitchen (score = 0.00000)\n",
      "living (score = 0.00000)\n",
      "https://s0.trippng.com/attachments/3dff6293a26b215ca7d12d68eb1c15934dd349cb/store/66dfaa82531c62a57c454d38207b8563dcbf44f831667cfd135b58fbbe16/media.jpeg\n"
     ]
    },
    {
     "data": {
      "text/html": [
       "<img src=\"https://s0.trippng.com/attachments/3dff6293a26b215ca7d12d68eb1c15934dd349cb/store/66dfaa82531c62a57c454d38207b8563dcbf44f831667cfd135b58fbbe16/media.jpeg\"/>"
      ],
      "text/plain": [
       "<IPython.core.display.Image object>"
      ]
     },
     "metadata": {},
     "output_type": "display_data"
    },
    {
     "name": "stdout",
     "output_type": "stream",
     "text": [
      "hotel (score = 0.44687)\n",
      "bedroom (score = 0.30136)\n",
      "living (score = 0.24838)\n",
      "bathroom (score = 0.00251)\n",
      "kitchen (score = 0.00068)\n",
      "person (score = 0.00020)\n",
      "https://s0.trippng.com/attachments/bf0b84fe1a2a8f0e11b5c1e72bf4ea9a1e8c3ad4/store/830c87ae2ccf144db516cd0cdb50c17a221ea2f6ddbb42da255359e55fb1/media.jpeg\n"
     ]
    },
    {
     "data": {
      "text/html": [
       "<img src=\"https://s0.trippng.com/attachments/bf0b84fe1a2a8f0e11b5c1e72bf4ea9a1e8c3ad4/store/830c87ae2ccf144db516cd0cdb50c17a221ea2f6ddbb42da255359e55fb1/media.jpeg\"/>"
      ],
      "text/plain": [
       "<IPython.core.display.Image object>"
      ]
     },
     "metadata": {},
     "output_type": "display_data"
    },
    {
     "name": "stdout",
     "output_type": "stream",
     "text": [
      "hotel (score = 0.56048)\n",
      "bathroom (score = 0.43923)\n",
      "kitchen (score = 0.00017)\n",
      "person (score = 0.00008)\n",
      "bedroom (score = 0.00003)\n",
      "living (score = 0.00001)\n",
      "https://s0.trippng.com/attachments/11abf2c31ab5104f66eb65ec082e31c044514a95/store/32c898c455f1e8c6962c1043f8c685a77a4eac4ec6f0f10171a5b2e9bf35/media.jpeg\n"
     ]
    },
    {
     "data": {
      "text/html": [
       "<img src=\"https://s0.trippng.com/attachments/11abf2c31ab5104f66eb65ec082e31c044514a95/store/32c898c455f1e8c6962c1043f8c685a77a4eac4ec6f0f10171a5b2e9bf35/media.jpeg\"/>"
      ],
      "text/plain": [
       "<IPython.core.display.Image object>"
      ]
     },
     "metadata": {},
     "output_type": "display_data"
    },
    {
     "name": "stdout",
     "output_type": "stream",
     "text": [
      "living (score = 0.79292)\n",
      "bedroom (score = 0.17255)\n",
      "hotel (score = 0.03381)\n",
      "bathroom (score = 0.00056)\n",
      "kitchen (score = 0.00008)\n",
      "person (score = 0.00008)\n",
      "https://s0.trippng.com/attachments/c85cc4efd233097cc71e0eadb7d3bd490dc741cc/store/5b905bdc7077646037fe0e2c53ce6d7c324a518be82fa1a1597e47206783/media.jpeg\n"
     ]
    },
    {
     "data": {
      "text/html": [
       "<img src=\"https://s0.trippng.com/attachments/c85cc4efd233097cc71e0eadb7d3bd490dc741cc/store/5b905bdc7077646037fe0e2c53ce6d7c324a518be82fa1a1597e47206783/media.jpeg\"/>"
      ],
      "text/plain": [
       "<IPython.core.display.Image object>"
      ]
     },
     "metadata": {},
     "output_type": "display_data"
    },
    {
     "name": "stdout",
     "output_type": "stream",
     "text": [
      "hotel (score = 0.51027)\n",
      "bathroom (score = 0.40321)\n",
      "kitchen (score = 0.05666)\n",
      "person (score = 0.01378)\n",
      "bedroom (score = 0.01301)\n",
      "living (score = 0.00306)\n",
      "https://s0.trippng.com/attachments/1006189b86b3ea2db8e3c058b180099b85a26209/store/e0c791bced41698cef6d0c0bbf8fc3e50011524db7058f876cb59c911c4b/media.jpeg\n"
     ]
    },
    {
     "data": {
      "text/html": [
       "<img src=\"https://s0.trippng.com/attachments/1006189b86b3ea2db8e3c058b180099b85a26209/store/e0c791bced41698cef6d0c0bbf8fc3e50011524db7058f876cb59c911c4b/media.jpeg\"/>"
      ],
      "text/plain": [
       "<IPython.core.display.Image object>"
      ]
     },
     "metadata": {},
     "output_type": "display_data"
    },
    {
     "name": "stdout",
     "output_type": "stream",
     "text": [
      "hotel (score = 0.91367)\n",
      "kitchen (score = 0.06492)\n",
      "living (score = 0.01535)\n",
      "bathroom (score = 0.00301)\n",
      "bedroom (score = 0.00269)\n",
      "person (score = 0.00037)\n",
      "https://s0.trippng.com/attachments/2ca543f77c3728c9bf041c9b436e1b31946b5792/store/36338dcbf6c4bb2bb6ee12e241113f26a0946693cb58e07b561666a80dec/media.jpeg\n"
     ]
    },
    {
     "data": {
      "text/html": [
       "<img src=\"https://s0.trippng.com/attachments/2ca543f77c3728c9bf041c9b436e1b31946b5792/store/36338dcbf6c4bb2bb6ee12e241113f26a0946693cb58e07b561666a80dec/media.jpeg\"/>"
      ],
      "text/plain": [
       "<IPython.core.display.Image object>"
      ]
     },
     "metadata": {},
     "output_type": "display_data"
    },
    {
     "name": "stdout",
     "output_type": "stream",
     "text": [
      "kitchen (score = 0.76604)\n",
      "hotel (score = 0.14066)\n",
      "bedroom (score = 0.03681)\n",
      "living (score = 0.01956)\n",
      "bathroom (score = 0.01870)\n",
      "person (score = 0.01822)\n",
      "https://s0.trippng.com/attachments/ac54685a3d6e437a1f0241a6b6ceb69739a4d08d/store/1637aedd6ab6b9bf515de56f6f16a74a97b81c2aece98dc1c83178f02ebf/media.jpeg\n"
     ]
    },
    {
     "data": {
      "text/html": [
       "<img src=\"https://s0.trippng.com/attachments/ac54685a3d6e437a1f0241a6b6ceb69739a4d08d/store/1637aedd6ab6b9bf515de56f6f16a74a97b81c2aece98dc1c83178f02ebf/media.jpeg\"/>"
      ],
      "text/plain": [
       "<IPython.core.display.Image object>"
      ]
     },
     "metadata": {},
     "output_type": "display_data"
    },
    {
     "name": "stdout",
     "output_type": "stream",
     "text": [
      "bedroom (score = 0.41597)\n",
      "hotel (score = 0.32046)\n",
      "living (score = 0.25953)\n",
      "bathroom (score = 0.00216)\n",
      "person (score = 0.00117)\n",
      "kitchen (score = 0.00071)\n"
     ]
    }
   ],
   "source": [
    "classify_listing_images(18272610)"
   ]
  },
  {
   "cell_type": "code",
   "execution_count": 5,
   "metadata": {
    "collapsed": false
   },
   "outputs": [
    {
     "name": "stdout",
     "output_type": "stream",
     "text": [
      "https://s0.trippng.com/attachments/3c82268d28404b06d0e1e1988224f63edcb43ab4/store/114dfbaae9cedcd32fc97bd2b1c5ce7735294e89fba01f86c5dd73489092/media.jpeg\n"
     ]
    },
    {
     "data": {
      "text/html": [
       "<img src=\"https://s0.trippng.com/attachments/3c82268d28404b06d0e1e1988224f63edcb43ab4/store/114dfbaae9cedcd32fc97bd2b1c5ce7735294e89fba01f86c5dd73489092/media.jpeg\"/>"
      ],
      "text/plain": [
       "<IPython.core.display.Image object>"
      ]
     },
     "metadata": {},
     "output_type": "display_data"
    },
    {
     "name": "stdout",
     "output_type": "stream",
     "text": [
      "person (score = 0.93849)\n",
      "bathroom (score = 0.05075)\n",
      "hotel (score = 0.00344)\n",
      "living (score = 0.00335)\n",
      "bedroom (score = 0.00238)\n",
      "kitchen (score = 0.00159)\n",
      "https://s0.trippng.com/attachments/95e98b96b58085a7ac6194e83673ecf97585ff51/store/f95fd11706c794b94951b5959fe8df951fb7351e90c512ad682e886d438f/media.jpeg\n"
     ]
    },
    {
     "data": {
      "text/html": [
       "<img src=\"https://s0.trippng.com/attachments/95e98b96b58085a7ac6194e83673ecf97585ff51/store/f95fd11706c794b94951b5959fe8df951fb7351e90c512ad682e886d438f/media.jpeg\"/>"
      ],
      "text/plain": [
       "<IPython.core.display.Image object>"
      ]
     },
     "metadata": {},
     "output_type": "display_data"
    },
    {
     "name": "stdout",
     "output_type": "stream",
     "text": [
      "bedroom (score = 0.82741)\n",
      "hotel (score = 0.17145)\n",
      "bathroom (score = 0.00068)\n",
      "living (score = 0.00033)\n",
      "person (score = 0.00008)\n",
      "kitchen (score = 0.00005)\n",
      "https://s0.trippng.com/attachments/1807d9504b6e1310d7549cb574c6634caef5084b/store/2582670715cebc31b971c293fa8d3b97ec00fb91a585d8f4a0b20826aa7b/media.jpeg\n"
     ]
    },
    {
     "data": {
      "text/html": [
       "<img src=\"https://s0.trippng.com/attachments/1807d9504b6e1310d7549cb574c6634caef5084b/store/2582670715cebc31b971c293fa8d3b97ec00fb91a585d8f4a0b20826aa7b/media.jpeg\"/>"
      ],
      "text/plain": [
       "<IPython.core.display.Image object>"
      ]
     },
     "metadata": {},
     "output_type": "display_data"
    },
    {
     "name": "stdout",
     "output_type": "stream",
     "text": [
      "living (score = 0.96685)\n",
      "hotel (score = 0.01981)\n",
      "bedroom (score = 0.01111)\n",
      "bathroom (score = 0.00188)\n",
      "person (score = 0.00032)\n",
      "kitchen (score = 0.00003)\n"
     ]
    }
   ],
   "source": [
    "classify_listing_images(18272610)"
   ]
  },
  {
   "cell_type": "code",
   "execution_count": null,
   "metadata": {
    "collapsed": true
   },
   "outputs": [],
   "source": []
  }
 ],
 "metadata": {
  "anaconda-cloud": {},
  "kernelspec": {
   "display_name": "Python [default]",
   "language": "python",
   "name": "python3"
  },
  "language_info": {
   "codemirror_mode": {
    "name": "ipython",
    "version": 3
   },
   "file_extension": ".py",
   "mimetype": "text/x-python",
   "name": "python",
   "nbconvert_exporter": "python",
   "pygments_lexer": "ipython3",
   "version": "3.5.2"
  }
 },
 "nbformat": 4,
 "nbformat_minor": 1
}
