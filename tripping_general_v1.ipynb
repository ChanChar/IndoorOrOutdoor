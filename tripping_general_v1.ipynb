{
 "cells": [
  {
   "cell_type": "code",
   "execution_count": 1,
   "metadata": {
    "collapsed": false
   },
   "outputs": [],
   "source": [
    "from IPython.display import Image, display\n",
    "from IPython.core.display import HTML \n",
    "# from IPython.core.debugger import Tracer\n",
    "from lxml import html\n",
    "import tensorflow as tf, sys\n",
    "import shutil\n",
    "import requests\n",
    "import subprocess\n",
    "import random\n",
    "import os\n",
    "\n",
    "from image_labeler import ImageLabeler\n",
    "\n",
    "labeler = ImageLabeler()"
   ]
  },
  {
   "cell_type": "code",
   "execution_count": 2,
   "metadata": {
    "collapsed": false
   },
   "outputs": [],
   "source": [
    "# Classify a single image given the URL.\n",
    "def classify_images(image_urls):    \n",
    "    # Downloads image locally\n",
    "    # Runs through the pre-trained classifier. See image_labeler.py for more info.\n",
    "    return labeler.get_tags(image_urls)\n",
    "\n",
    "def confidence_levels(image):\n",
    "    print(\"High Quality Confidence: {}\".format(image['high_quality']))\n",
    "    print(\"Low Quality Confidence: {}\".format(image['low_quality']))\n",
    "\n",
    "def format_link(link):\n",
    "    return \"https:{}\".format(link)\n",
    "\n",
    "# If you want to get all the classification results for a listing's image.\n",
    "def classify_listing_images(listing_id):\n",
    "    # Get the details URL for a given listing.\n",
    "    detail_url = 'https://www.tripping.com/details/test/1/1/{}'.format(listing_id)\n",
    "    # Parse the html tree and grab all the image links\n",
    "    html_tree = html.fromstring(requests.get(detail_url).content)\n",
    "    link_results = html_tree.xpath('.//img/@src')\n",
    "    links = [link_result for link_result in link_results if 'trippng' in link_result]\n",
    "    \n",
    "#     scores = []\n",
    "    \n",
    "    image_urls = [format_link(link) for link in links]\n",
    "    scores = classify_images(image_urls)\n",
    "#     for i, image_url in enumerate(image_urls):\n",
    "#         image_stats = classify_image(image_url)\n",
    "#         image_stats[\"image_url\"] = image_url\n",
    "#         scores.append(image_stats)\n",
    "#         print(\"Completed {}%\".format((i+1) / len(links) * 100))\n",
    "        \n",
    "    default_image = scores[0]\n",
    "    \n",
    "    highest_quality = max(scores, key=lambda score:score['high_quality'])\n",
    "    lowest_quality = max(scores, key=lambda score:score['low_quality'])\n",
    "    \n",
    "    print(\"Current Image\")\n",
    "    confidence_levels(default_image)\n",
    "    display(Image(url=default_image['image_url']), width=50, height=50)\n",
    "    \n",
    "    print(\"'Best' Image by Score\")\n",
    "    confidence_levels(highest_quality)\n",
    "    display(Image(url=highest_quality['image_url']), width=50, height=50)\n",
    "\n",
    "    print(\"'Worst' Image by Score\")\n",
    "    confidence_levels(lowest_quality)\n",
    "    display(Image(url=lowest_quality['image_url']), width=50, height=50)"
   ]
  },
  {
   "cell_type": "code",
   "execution_count": 3,
   "metadata": {
    "collapsed": false,
    "scrolled": false
   },
   "outputs": [
    {
     "name": "stdout",
     "output_type": "stream",
     "text": [
      "Processing 5 images\n",
      "Completed 20.0%\n",
      "Completed 40.0%\n",
      "Completed 60.0%\n",
      "Completed 80.0%\n",
      "Completed 100.0%\n",
      "Current Image\n",
      "High Quality Confidence: 0.3982025682926178\n",
      "Low Quality Confidence: 0.6017974615097046\n"
     ]
    },
    {
     "data": {
      "text/html": [
       "<img src=\"https://s0.trippng.com/attachments/136398bb86b2d9f1cc57320f88884a2ff0a2811b/store/6d8165a5c90c0022e8b44d2fabbf34d3e5a58e2bf1c1383760162878a557/media.jpeg\"/>"
      ],
      "text/plain": [
       "<IPython.core.display.Image object>"
      ]
     },
     "metadata": {},
     "output_type": "display_data"
    },
    {
     "name": "stdout",
     "output_type": "stream",
     "text": [
      "'Best' Image by Score\n",
      "High Quality Confidence: 0.9730885624885559\n",
      "Low Quality Confidence: 0.026911519467830658\n"
     ]
    },
    {
     "data": {
      "text/html": [
       "<img src=\"https://s0.trippng.com/attachments/34c6c5cfe72c0c8f06fdf415310b8c9bc3991894/store/d65fe59dbc2d94e60c326a5c3dc3820dd974ee40d071022e4196329b4ac6/media.jpeg\"/>"
      ],
      "text/plain": [
       "<IPython.core.display.Image object>"
      ]
     },
     "metadata": {},
     "output_type": "display_data"
    },
    {
     "name": "stdout",
     "output_type": "stream",
     "text": [
      "'Worst' Image by Score\n",
      "High Quality Confidence: 0.018360581248998642\n",
      "Low Quality Confidence: 0.9816393852233887\n"
     ]
    },
    {
     "data": {
      "text/html": [
       "<img src=\"https://s0.trippng.com/attachments/c3104faa35a7b8207f31c271bd8e2bbc7ed2fa40/store/75abe66d942e40f2c67af74c1556fdb303b70d698866a104a025e9981364/media.jpeg\"/>"
      ],
      "text/plain": [
       "<IPython.core.display.Image object>"
      ]
     },
     "metadata": {},
     "output_type": "display_data"
    }
   ],
   "source": [
    "classify_listing_images(28254567)"
   ]
  },
  {
   "cell_type": "code",
   "execution_count": 4,
   "metadata": {
    "collapsed": false,
    "scrolled": true
   },
   "outputs": [
    {
     "name": "stdout",
     "output_type": "stream",
     "text": [
      "Processing 16 images\n",
      "Completed 6.25%\n",
      "Completed 12.5%\n",
      "Completed 18.75%\n",
      "Completed 25.0%\n",
      "Completed 31.25%\n",
      "Completed 37.5%\n",
      "Completed 43.75%\n",
      "Completed 50.0%\n",
      "Completed 56.25%\n",
      "Completed 62.5%\n",
      "Completed 68.75%\n",
      "Completed 75.0%\n",
      "Completed 81.25%\n",
      "Completed 87.5%\n",
      "Completed 93.75%\n",
      "Completed 100.0%\n",
      "Current Image\n",
      "High Quality Confidence: 0.842902660369873\n",
      "Low Quality Confidence: 0.15709733963012695\n"
     ]
    },
    {
     "data": {
      "text/html": [
       "<img src=\"https://s0.trippng.com/attachments/6a6170f14933f9b74f5961e85df197ae53ec3e34/store/504ef6495aec870f4f443a7adf627e73714b9c7b45a7294c79a52faf53ec/media.jpeg\"/>"
      ],
      "text/plain": [
       "<IPython.core.display.Image object>"
      ]
     },
     "metadata": {},
     "output_type": "display_data"
    },
    {
     "name": "stdout",
     "output_type": "stream",
     "text": [
      "'Best' Image by Score\n",
      "High Quality Confidence: 0.9672393798828125\n",
      "Low Quality Confidence: 0.032760608941316605\n"
     ]
    },
    {
     "data": {
      "text/html": [
       "<img src=\"https://s0.trippng.com/attachments/3b97ec6f831c39233f5be7f526db1cc1ab428e43/store/272ba996f5428986081671360fbc1969e671813a071bff7fe8123a7f952a/media.jpeg\"/>"
      ],
      "text/plain": [
       "<IPython.core.display.Image object>"
      ]
     },
     "metadata": {},
     "output_type": "display_data"
    },
    {
     "name": "stdout",
     "output_type": "stream",
     "text": [
      "'Worst' Image by Score\n",
      "High Quality Confidence: 0.1369130164384842\n",
      "Low Quality Confidence: 0.8630869388580322\n"
     ]
    },
    {
     "data": {
      "text/html": [
       "<img src=\"https://s0.trippng.com/attachments/bc8452c08cd7e946c9e678371f2c079c19fa0d66/store/92e905d05e086364b1758f056dc93d258e487157f6c04cdc3ecec2471cb6/media.jpeg\"/>"
      ],
      "text/plain": [
       "<IPython.core.display.Image object>"
      ]
     },
     "metadata": {},
     "output_type": "display_data"
    }
   ],
   "source": [
    "classify_listing_images(18887515)"
   ]
  },
  {
   "cell_type": "code",
   "execution_count": null,
   "metadata": {
    "collapsed": true
   },
   "outputs": [],
   "source": []
  }
 ],
 "metadata": {
  "anaconda-cloud": {},
  "kernelspec": {
   "display_name": "Python [default]",
   "language": "python",
   "name": "python3"
  },
  "language_info": {
   "codemirror_mode": {
    "name": "ipython",
    "version": 3
   },
   "file_extension": ".py",
   "mimetype": "text/x-python",
   "name": "python",
   "nbconvert_exporter": "python",
   "pygments_lexer": "ipython3",
   "version": "3.5.2"
  }
 },
 "nbformat": 4,
 "nbformat_minor": 1
}
