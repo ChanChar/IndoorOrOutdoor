{
 "cells": [
  {
   "cell_type": "code",
   "execution_count": 1,
   "metadata": {
    "collapsed": false
   },
   "outputs": [],
   "source": [
    "from IPython.display import Image, display\n",
    "from IPython.core.display import HTML \n",
    "from lxml import html\n",
    "import tensorflow as tf, sys\n",
    "import shutil\n",
    "import requests\n",
    "import subprocess\n",
    "import random\n",
    "import os\n",
    "\n",
    "from image_labeler import ImageLabeler\n",
    "\n",
    "labeler = ImageLabeler()"
   ]
  },
  {
   "cell_type": "code",
   "execution_count": 2,
   "metadata": {
    "collapsed": false
   },
   "outputs": [],
   "source": [
    "# Classify a single image given the URL.\n",
    "def classify_image(image_url):\n",
    "    # Show inline image\n",
    "    display(Image(url=image_url), width=50, height=50)\n",
    "    \n",
    "    # Downloads image locally\n",
    "    # Runs through the pre-trained classifier. See image_labeler.py for more info.\n",
    "    labeler.get_tags(image_url)\n",
    "\n",
    "# If you want to get all the classification results for a listing's image.\n",
    "def classify_listing_images(listing_id):\n",
    "    # Get the details URL for a given listing.\n",
    "    detail_url = 'https://www.tripping.com/details/test/1/1/{}'.format(listing_id)\n",
    "    # Parse the html tree and grab all the image links\n",
    "    html_tree = html.fromstring(requests.get(detail_url).content)\n",
    "    link_results = html_tree.xpath('.//img/@src')\n",
    "    links = [link_result for link_result in link_results if 'trippng' in link_result]\n",
    "                    \n",
    "    for link in links:\n",
    "        image_url = \"https:{}\".format(link)\n",
    "        print(image_url)\n",
    "        classify_image(image_url)"
   ]
  },
  {
   "cell_type": "code",
   "execution_count": null,
   "metadata": {
    "collapsed": false,
    "scrolled": true
   },
   "outputs": [
    {
     "name": "stdout",
     "output_type": "stream",
     "text": [
      "https://s0.trippng.com/attachments/3b03d6f5e6229d256309c7752a212aba433625b1/store/b025bab9899b5f9c94e4956352d151e539a67799bfc96a3500f9c7568855/media.jpeg\n"
     ]
    },
    {
     "data": {
      "text/html": [
       "<img src=\"https://s0.trippng.com/attachments/3b03d6f5e6229d256309c7752a212aba433625b1/store/b025bab9899b5f9c94e4956352d151e539a67799bfc96a3500f9c7568855/media.jpeg\"/>"
      ],
      "text/plain": [
       "<IPython.core.display.Image object>"
      ]
     },
     "metadata": {},
     "output_type": "display_data"
    },
    {
     "name": "stdout",
     "output_type": "stream",
     "text": [
      "outdoor (score = 0.99886)\n",
      "indoor (score = 0.00114)\n",
      "https://s0.trippng.com/attachments/98d66234cdd6f16dabea6dfee02ea59caeef484c/store/71fbfffcb8922481ff5d10c1704ff9a22e1f69983f599724256a6c104c82/media.jpeg\n"
     ]
    },
    {
     "data": {
      "text/html": [
       "<img src=\"https://s0.trippng.com/attachments/98d66234cdd6f16dabea6dfee02ea59caeef484c/store/71fbfffcb8922481ff5d10c1704ff9a22e1f69983f599724256a6c104c82/media.jpeg\"/>"
      ],
      "text/plain": [
       "<IPython.core.display.Image object>"
      ]
     },
     "metadata": {},
     "output_type": "display_data"
    },
    {
     "name": "stdout",
     "output_type": "stream",
     "text": [
      "indoor (score = 0.99667)\n",
      "outdoor (score = 0.00333)\n",
      "https://s0.trippng.com/attachments/10d276bbbad92f7c9049ca32f8ca61098fcb94d2/store/aae40b835c2d80e9ae9b0b33a2208edf7e8ca5367ab65d1d2f123f0afcd2/media.jpeg\n"
     ]
    },
    {
     "data": {
      "text/html": [
       "<img src=\"https://s0.trippng.com/attachments/10d276bbbad92f7c9049ca32f8ca61098fcb94d2/store/aae40b835c2d80e9ae9b0b33a2208edf7e8ca5367ab65d1d2f123f0afcd2/media.jpeg\"/>"
      ],
      "text/plain": [
       "<IPython.core.display.Image object>"
      ]
     },
     "metadata": {},
     "output_type": "display_data"
    }
   ],
   "source": [
    "classify_listing_images(23349297)"
   ]
  },
  {
   "cell_type": "code",
   "execution_count": null,
   "metadata": {
    "collapsed": true
   },
   "outputs": [],
   "source": []
  }
 ],
 "metadata": {
  "anaconda-cloud": {},
  "kernelspec": {
   "display_name": "Python [conda root]",
   "language": "python",
   "name": "conda-root-py"
  },
  "language_info": {
   "codemirror_mode": {
    "name": "ipython",
    "version": 3
   },
   "file_extension": ".py",
   "mimetype": "text/x-python",
   "name": "python",
   "nbconvert_exporter": "python",
   "pygments_lexer": "ipython3",
   "version": "3.5.2"
  }
 },
 "nbformat": 4,
 "nbformat_minor": 1
}
